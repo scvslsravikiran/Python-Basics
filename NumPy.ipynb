{
 "cells": [
  {
   "cell_type": "markdown",
   "metadata": {},
   "source": [
    "# NumPy Tutorial"
   ]
  },
  {
   "cell_type": "code",
   "execution_count": 1,
   "metadata": {},
   "outputs": [],
   "source": [
    "import numpy as np"
   ]
  },
  {
   "cell_type": "code",
   "execution_count": 2,
   "metadata": {},
   "outputs": [
    {
     "name": "stdout",
     "output_type": "stream",
     "text": [
      "[1 2 3 4 5 6]\n",
      "<class 'numpy.ndarray'>\n"
     ]
    }
   ],
   "source": [
    "lst = [1,2,3,4,5,6]\n",
    "arr_lst = np.array(lst)\n",
    "print(arr_lst)\n",
    "print(type(arr_lst))"
   ]
  },
  {
   "cell_type": "code",
   "execution_count": 3,
   "metadata": {},
   "outputs": [
    {
     "data": {
      "text/plain": [
       "(6,)"
      ]
     },
     "execution_count": 3,
     "metadata": {},
     "output_type": "execute_result"
    }
   ],
   "source": [
    "arr_lst.shape"
   ]
  },
  {
   "cell_type": "code",
   "execution_count": 4,
   "metadata": {},
   "outputs": [
    {
     "data": {
      "text/plain": [
       "array([[1, 3, 4, 6, 3],\n",
       "       [2, 5, 6, 9, 0],\n",
       "       [7, 5, 8, 2, 4]])"
      ]
     },
     "execution_count": 4,
     "metadata": {},
     "output_type": "execute_result"
    }
   ],
   "source": [
    "# Creating a 2D array\n",
    "\n",
    "list_1 = [1,3,4,6,3]\n",
    "list_2 = [2,5,6,9,0]\n",
    "list_3 = [7,5,8,2,4]\n",
    "\n",
    "#creating an array\n",
    "array_2D = np.array([list_1,list_2,list_3])\n",
    "array_2D"
   ]
  },
  {
   "cell_type": "code",
   "execution_count": 5,
   "metadata": {},
   "outputs": [
    {
     "data": {
      "text/plain": [
       "numpy.ndarray"
      ]
     },
     "execution_count": 5,
     "metadata": {},
     "output_type": "execute_result"
    }
   ],
   "source": [
    "type(array_2D)"
   ]
  },
  {
   "cell_type": "code",
   "execution_count": 6,
   "metadata": {},
   "outputs": [
    {
     "data": {
      "text/plain": [
       "(3, 5)"
      ]
     },
     "execution_count": 6,
     "metadata": {},
     "output_type": "execute_result"
    }
   ],
   "source": [
    "array_2D.shape"
   ]
  },
  {
   "cell_type": "code",
   "execution_count": 7,
   "metadata": {},
   "outputs": [
    {
     "data": {
      "text/plain": [
       "array([[1, 3, 4],\n",
       "       [6, 3, 2],\n",
       "       [5, 6, 9],\n",
       "       [0, 7, 5],\n",
       "       [8, 2, 4]])"
      ]
     },
     "execution_count": 7,
     "metadata": {},
     "output_type": "execute_result"
    }
   ],
   "source": [
    "array_2D.reshape(5,3)"
   ]
  },
  {
   "cell_type": "code",
   "execution_count": 8,
   "metadata": {},
   "outputs": [
    {
     "data": {
      "text/plain": [
       "array([[1, 3, 4, 6, 3],\n",
       "       [2, 5, 6, 9, 0],\n",
       "       [7, 5, 8, 2, 4]])"
      ]
     },
     "execution_count": 8,
     "metadata": {},
     "output_type": "execute_result"
    }
   ],
   "source": [
    "array_2D"
   ]
  },
  {
   "cell_type": "code",
   "execution_count": 9,
   "metadata": {},
   "outputs": [
    {
     "name": "stdout",
     "output_type": "stream",
     "text": [
      "[[1 3 4 6 3]\n",
      " [2 5 6 9 0]\n",
      " [7 5 8 2 4]]\n"
     ]
    }
   ],
   "source": [
    "# Indexing\n",
    "\n",
    "# indexing in numpy array also starts from 0\n",
    "\n",
    "print(array_2D[:,:]) # This will return complete array"
   ]
  },
  {
   "cell_type": "code",
   "execution_count": 10,
   "metadata": {},
   "outputs": [
    {
     "data": {
      "text/plain": [
       "array([[1, 3],\n",
       "       [2, 5]])"
      ]
     },
     "execution_count": 10,
     "metadata": {},
     "output_type": "execute_result"
    }
   ],
   "source": [
    "'''\n",
    "Requirement: \n",
    "array([[1, 3],\n",
    "       [2, 5]])\n",
    "'''\n",
    "\n",
    "array_2D[0:2,0:2] # This achieves our requirement"
   ]
  },
  {
   "cell_type": "code",
   "execution_count": 11,
   "metadata": {},
   "outputs": [
    {
     "data": {
      "text/plain": [
       "array([[4, 6, 3],\n",
       "       [6, 9, 0]])"
      ]
     },
     "execution_count": 11,
     "metadata": {},
     "output_type": "execute_result"
    }
   ],
   "source": [
    "'''\n",
    "Requirement: \n",
    "array([[4, 6, 3],\n",
    "       [6, 9, 0]])\n",
    "'''\n",
    "array_2D[0:2,2:]"
   ]
  },
  {
   "cell_type": "code",
   "execution_count": 12,
   "metadata": {},
   "outputs": [
    {
     "data": {
      "text/plain": [
       "array([[1, 4, 3],\n",
       "       [2, 6, 0]])"
      ]
     },
     "execution_count": 12,
     "metadata": {},
     "output_type": "execute_result"
    }
   ],
   "source": [
    "array_2D[0:2,0:5:2] #slicing alternate elements in column"
   ]
  },
  {
   "cell_type": "code",
   "execution_count": 13,
   "metadata": {},
   "outputs": [
    {
     "data": {
      "text/plain": [
       "array([[1, 3, 4, 6, 3],\n",
       "       [7, 5, 8, 2, 4]])"
      ]
     },
     "execution_count": 13,
     "metadata": {},
     "output_type": "execute_result"
    }
   ],
   "source": [
    "array_2D[0::2,0:5] #slicing alternate elements in row"
   ]
  },
  {
   "cell_type": "code",
   "execution_count": 14,
   "metadata": {},
   "outputs": [
    {
     "data": {
      "text/plain": [
       "array([[6, 3],\n",
       "       [2, 4]])"
      ]
     },
     "execution_count": 14,
     "metadata": {},
     "output_type": "execute_result"
    }
   ],
   "source": [
    "'''\n",
    "Requirement: \n",
    "array([[6, 3],\n",
    "       [2, 4]])\n",
    "'''\n",
    "array_2D[::2,3:]"
   ]
  },
  {
   "cell_type": "code",
   "execution_count": 15,
   "metadata": {},
   "outputs": [
    {
     "data": {
      "text/plain": [
       "array([1, 2, 3, 4, 5, 6, 7, 8, 9])"
      ]
     },
     "execution_count": 15,
     "metadata": {},
     "output_type": "execute_result"
    }
   ],
   "source": [
    "# np.arange() and np.linspace()\n",
    "\n",
    "np.arange(1, 10) # arange() returns the numbers from start to stop and optional step"
   ]
  },
  {
   "cell_type": "code",
   "execution_count": 16,
   "metadata": {},
   "outputs": [
    {
     "data": {
      "text/plain": [
       "array([1, 3, 5, 7, 9])"
      ]
     },
     "execution_count": 16,
     "metadata": {},
     "output_type": "execute_result"
    }
   ],
   "source": [
    "np.arange(1, 10, 2) # start, stop, [step]"
   ]
  },
  {
   "cell_type": "code",
   "execution_count": 17,
   "metadata": {},
   "outputs": [
    {
     "data": {
      "text/plain": [
       "array([1.  , 1.18, 1.36, 1.54, 1.72, 1.9 , 2.08, 2.26, 2.44, 2.62, 2.8 ,\n",
       "       2.98, 3.16, 3.34, 3.52, 3.7 , 3.88, 4.06, 4.24, 4.42, 4.6 , 4.78,\n",
       "       4.96, 5.14, 5.32, 5.5 , 5.68, 5.86, 6.04, 6.22, 6.4 , 6.58, 6.76,\n",
       "       6.94, 7.12, 7.3 , 7.48, 7.66, 7.84, 8.02, 8.2 , 8.38, 8.56, 8.74,\n",
       "       8.92, 9.1 , 9.28, 9.46, 9.64, 9.82])"
      ]
     },
     "execution_count": 17,
     "metadata": {},
     "output_type": "execute_result"
    }
   ],
   "source": [
    "#linspace\n",
    "\n",
    "    np.linspace(1, 10, num =50, endpoint=False) # linspace equally divides the numbers from start to end. \n",
    "# num-> number of steps(spacing) and endpoint -> inclusion of end value (True/False)"
   ]
  },
  {
   "cell_type": "code",
   "execution_count": 18,
   "metadata": {},
   "outputs": [
    {
     "data": {
      "text/plain": [
       "(array([1.  , 1.18, 1.36, 1.54, 1.72, 1.9 , 2.08, 2.26, 2.44, 2.62, 2.8 ,\n",
       "        2.98, 3.16, 3.34, 3.52, 3.7 , 3.88, 4.06, 4.24, 4.42, 4.6 , 4.78,\n",
       "        4.96, 5.14, 5.32, 5.5 , 5.68, 5.86, 6.04, 6.22, 6.4 , 6.58, 6.76,\n",
       "        6.94, 7.12, 7.3 , 7.48, 7.66, 7.84, 8.02, 8.2 , 8.38, 8.56, 8.74,\n",
       "        8.92, 9.1 , 9.28, 9.46, 9.64, 9.82]), 0.18)"
      ]
     },
     "execution_count": 18,
     "metadata": {},
     "output_type": "execute_result"
    }
   ],
   "source": [
    "np.linspace(1, 10, num =50, endpoint=False, retstep=True) # retstep = True/False returns spacing value"
   ]
  },
  {
   "cell_type": "code",
   "execution_count": 19,
   "metadata": {},
   "outputs": [
    {
     "data": {
      "text/plain": [
       "array([1, 2, 3, 4, 5, 6, 7, 8, 9])"
      ]
     },
     "execution_count": 19,
     "metadata": {},
     "output_type": "execute_result"
    }
   ],
   "source": [
    "# copy() function and broadcasting\n",
    "\n",
    "arr1 = np.arange(1,10)\n",
    "arr1"
   ]
  },
  {
   "cell_type": "code",
   "execution_count": 20,
   "metadata": {},
   "outputs": [
    {
     "name": "stdout",
     "output_type": "stream",
     "text": [
      "Array 1 before broadcasting: [1 2 3 4 5 6 7 8 9]\n",
      "Array 2 before broadcasting: [1 2 3 4 5 6 7 8 9]\n",
      "Array 1 after broadcasting: [  1   2   3 100 100 100 100 100 100]\n",
      "Array 2 after broadcasting: [  1   2   3 100 100 100 100 100 100]\n"
     ]
    }
   ],
   "source": [
    "arr2 = arr1 # Here arr1 and arr2 takes the same memory space\n",
    "arr2\n",
    "print(\"Array 1 before broadcasting: {}\".format(arr1))\n",
    "print(\"Array 2 before broadcasting: {}\".format(arr2))\n",
    "\n",
    "arr1[3:] = 100 #broadcasting\n",
    "\n",
    "# since arr1 and arr2 takes the same memory space both are same (if you change one, other will change)\n",
    "\n",
    "print(\"Array 1 after broadcasting: {}\".format(arr1))\n",
    "\n",
    "print(\"Array 2 after broadcasting: {}\".format(arr2)) "
   ]
  },
  {
   "cell_type": "code",
   "execution_count": 21,
   "metadata": {},
   "outputs": [
    {
     "name": "stdout",
     "output_type": "stream",
     "text": [
      "Array 1 before copy: [ 2.  4.  6.  8. 10.]\n",
      "Array 1 after copy: [ 2.  4.  6.  8. 10.]\n",
      "Array 2 after copy: [ 2.  4.  6.  8. 10.]\n",
      "Array 1 after broadcasting: [  2.   4.   6. 100. 100.]\n",
      "Array 2 after broadcasting: [ 2.  4.  6.  8. 10.]\n"
     ]
    }
   ],
   "source": [
    "# copy() function\n",
    "\n",
    "arr = np.linspace(2,10,5)\n",
    "print (\"Array 1 before copy: {}\".format(arr))\n",
    "\n",
    "array = arr.copy()\n",
    "print (\"Array 1 after copy: {}\".format(arr))\n",
    "print (\"Array 2 after copy: {}\".format(array))\n",
    "\n",
    "arr[3:] = 100 #broadcasting\n",
    "\n",
    "# since arr and array takes the different memory space (so changing one don't reflect other)\n",
    "\n",
    "print(\"Array 1 after broadcasting: {}\".format(arr))\n",
    "\n",
    "print(\"Array 2 after broadcasting: {}\".format(array)) "
   ]
  },
  {
   "cell_type": "code",
   "execution_count": 22,
   "metadata": {},
   "outputs": [
    {
     "name": "stdout",
     "output_type": "stream",
     "text": [
      "[ 2.  4.  6.  8. 10.]\n",
      "[  8.  32.  72. 128. 200.]\n"
     ]
    }
   ],
   "source": [
    "# some operations\n",
    "\n",
    "a1 = np.linspace(2,10,5)\n",
    "print(a1)\n",
    "res = a1*2\n",
    "print(a1*res)"
   ]
  },
  {
   "cell_type": "code",
   "execution_count": 23,
   "metadata": {},
   "outputs": [
    {
     "name": "stdout",
     "output_type": "stream",
     "text": [
      "[ 1.    5.75 10.5  15.25 20.  ]\n",
      "[ 2.  9. 16. 23. 30.]\n",
      "[  2.    51.75 168.   350.75 600.  ]\n"
     ]
    }
   ],
   "source": [
    "# Muliplying to np arrays\n",
    "array1 = np.linspace(1,20,5)\n",
    "array2 = np.linspace(2,30,5)\n",
    "print(array1); print(array2)\n",
    "print(array1*array2)"
   ]
  },
  {
   "cell_type": "code",
   "execution_count": 24,
   "metadata": {},
   "outputs": [
    {
     "name": "stdout",
     "output_type": "stream",
     "text": [
      "Uniformly Distributed values [[0.38015179 0.11288521 0.12984728 0.05323637 0.76581742 0.67712407\n",
      "  0.03255113 0.62059025 0.69191421 0.22948463]]\n",
      "Normally Distributed values [[-1.1512685  -2.17786977  0.40854419  2.36922822  0.22878047 -0.84426531\n",
      "  -0.53937923  0.48498113  1.96046081 -1.54994982]]\n",
      "Uniformly Distributed integers 9\n",
      "Uniformly Distributed floating number 0.8815568402483965\n"
     ]
    }
   ],
   "source": [
    "# np.random function\n",
    "\n",
    "print(\"Uniformly Distributed values {}\".format(np.random.rand(1,10)))\n",
    "print(\"Normally Distributed values {}\".format(np.random.randn(1,10)))\n",
    "print(\"Uniformly Distributed integers {}\".format(np.random.randint(1,10)))\n",
    "print(\"Uniformly Distributed floating number {}\".format(np.random.ranf()))\n"
   ]
  },
  {
   "cell_type": "code",
   "execution_count": 25,
   "metadata": {},
   "outputs": [
    {
     "data": {
      "text/plain": [
       "array([0.78233071, 0.73302702, 0.33630434, 0.04260367, 0.06169165])"
      ]
     },
     "execution_count": 25,
     "metadata": {},
     "output_type": "execute_result"
    }
   ],
   "source": [
    "# random_sample\n",
    "\n",
    "np.random.random_sample((5,))"
   ]
  },
  {
   "cell_type": "code",
   "execution_count": null,
   "metadata": {},
   "outputs": [],
   "source": []
  }
 ],
 "metadata": {
  "kernelspec": {
   "display_name": "Python 3",
   "language": "python",
   "name": "python3"
  },
  "language_info": {
   "codemirror_mode": {
    "name": "ipython",
    "version": 3
   },
   "file_extension": ".py",
   "mimetype": "text/x-python",
   "name": "python",
   "nbconvert_exporter": "python",
   "pygments_lexer": "ipython3",
   "version": "3.5.4"
  }
 },
 "nbformat": 4,
 "nbformat_minor": 2
}
